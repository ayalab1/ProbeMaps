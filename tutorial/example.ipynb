{
 "cells": [
  {
   "cell_type": "markdown",
   "metadata": {},
   "source": [
    "# notebook to map channels for passive probes when connected to intan preamplifier\n",
    "## in this tutorial, we will map the neuronexus buzsaki32 silicon probe when connected to the intan 32ch preamplifier. first, find the omnetics connector and desired channel layour for your probe of interest. for example, https://www.neuronexus.com/files/probemapping/32-channel/H32-Maps.pdf "
   ]
  },
  {
   "cell_type": "code",
   "execution_count": 13,
   "metadata": {},
   "outputs": [],
   "source": [
    "%reload_ext autoreload\n",
    "%autoreload 2\n",
    "\n",
    "import sys\n",
    "import os\n",
    "sys.path.append('C:/GitHub/ProbeMaps/src')\n",
    "from ProbeMapper import *\n"
   ]
  },
  {
   "cell_type": "markdown",
   "metadata": {},
   "source": [
    "channel layout for your probe of interest. see the manufacturer documentation"
   ]
  },
  {
   "cell_type": "code",
   "execution_count": 14,
   "metadata": {},
   "outputs": [],
   "source": [
    "# channel layout from left to right, dorsal to ventral\n",
    "channel_map = [\n",
    "    1, 8, 2, 7, 3, 6, 4, 5, \n",
    "    9, 16, 10, 15, 11, 14, 12, 13, \n",
    "    17, 24, 18, 23, 19, 22, 20, 21, \n",
    "    25, 32, 26, 31, 27, 30, 28, 29\n",
    "    ]"
   ]
  },
  {
   "cell_type": "markdown",
   "metadata": {},
   "source": [
    "get the appropriate arguments"
   ]
  },
  {
   "cell_type": "code",
   "execution_count": 15,
   "metadata": {},
   "outputs": [],
   "source": [
    "basepath = r\"C:\\GitHub\\LiddellFieldProject\\docs\\probes_channel_maps\"\n",
    "probe_type = \"neuronexus\"\n",
    "probe_name = \"Buzsaki32\"\n",
    "probe_connector = \"H32\"\n",
    "versions = [\"version1\", \"version2\"]"
   ]
  },
  {
   "cell_type": "markdown",
   "metadata": {},
   "source": [
    "create an object for your probe"
   ]
  },
  {
   "cell_type": "code",
   "execution_count": 16,
   "metadata": {},
   "outputs": [],
   "source": [
    "probe_mapper = Probe(\n",
    "    channel_map, \n",
    "    basepath=basepath, \n",
    "    probe_type=probe_type, \n",
    "    probe_name= probe_name, \n",
    "    probe_connector=probe_connector,\n",
    "    num_shanks=4, \n",
    "    save=True)"
   ]
  },
  {
   "cell_type": "markdown",
   "metadata": {},
   "source": [
    "map with desired intan preamplifier i.e., 32ch or 64 channels preamp"
   ]
  },
  {
   "cell_type": "code",
   "execution_count": 17,
   "metadata": {},
   "outputs": [
    {
     "name": "stdout",
     "output_type": "stream",
     "text": [
      "Contents of neuronexus_Buzsaki32_version1.txt:\n",
      "shank1: 15 1 14 0 13 9 11 10\n",
      "shank2: 2 12 4 8 5 3 6 7\n",
      "shank3: 19 29 23 27 28 26 24 25\n",
      "shank4: 30 16 31 17 22 18 21 20\n",
      "\n",
      "Contents of neuronexus_Buzsaki32_version2.txt:\n",
      "shank1: 31 17 30 16 29 25 27 26\n",
      "shank2: 18 28 20 24 21 19 22 23\n",
      "shank3: 3 13 7 11 12 10 8 9\n",
      "shank4: 14 0 15 1 6 2 5 4\n",
      " "
     ]
    }
   ],
   "source": [
    "probe_mapper.probeOmnetics2_intan32ch()"
   ]
  },
  {
   "cell_type": "code",
   "execution_count": 18,
   "metadata": {},
   "outputs": [],
   "source": [
    "# probe_mapper.get_device_map()"
   ]
  },
  {
   "cell_type": "markdown",
   "metadata": {},
   "source": [
    "check the saved channel map"
   ]
  },
  {
   "cell_type": "code",
   "execution_count": 19,
   "metadata": {},
   "outputs": [
    {
     "name": "stdout",
     "output_type": "stream",
     "text": [
      "Contents of neuronexus_Buzsaki32_version1.txt:\n",
      "shank1: 15 1 14 0 13 9 11 10\n",
      "shank2: 2 12 4 8 5 3 6 7\n",
      "shank3: 19 29 23 27 28 26 24 25\n",
      "shank4: 30 16 31 17 22 18 21 20\n",
      "\n",
      "Contents of neuronexus_Buzsaki32_version2.txt:\n",
      "shank1: 31 17 30 16 29 25 27 26\n",
      "shank2: 18 28 20 24 21 19 22 23\n",
      "shank3: 3 13 7 11 12 10 8 9\n",
      "shank4: 14 0 15 1 6 2 5 4\n",
      "\n"
     ]
    }
   ],
   "source": [
    "for version in versions:\n",
    "    filename = f\"{probe_type}_{probe_name}_{version}.txt\"\n",
    "    filepath = os.path.join(basepath, filename)\n",
    "\n",
    "    with open(filepath, \"r\") as f:\n",
    "        file_contents = f.read()\n",
    "        print(f\"Contents of {filename}:\")\n",
    "        print(file_contents)"
   ]
  }
 ],
 "metadata": {
  "kernelspec": {
   "display_name": "LiddellFieldProject",
   "language": "python",
   "name": "python3"
  },
  "language_info": {
   "codemirror_mode": {
    "name": "ipython",
    "version": 3
   },
   "file_extension": ".py",
   "mimetype": "text/x-python",
   "name": "python",
   "nbconvert_exporter": "python",
   "pygments_lexer": "ipython3",
   "version": "3.8.8"
  },
  "orig_nbformat": 4
 },
 "nbformat": 4,
 "nbformat_minor": 2
}
